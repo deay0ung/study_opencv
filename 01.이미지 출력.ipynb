{
 "cells": [
  {
   "cell_type": "code",
   "execution_count": 1,
   "id": "6c9bbf07",
   "metadata": {},
   "outputs": [
    {
     "name": "stdout",
     "output_type": "stream",
     "text": [
      "3.11.2 (tags/v3.11.2:878ead1, Feb  7 2023, 16:38:35) [MSC v.1934 64 bit (AMD64)]\n"
     ]
    }
   ],
   "source": [
    "import sys\n",
    "print(sys.version)"
   ]
  },
  {
   "cell_type": "code",
   "execution_count": 2,
   "id": "21a36460",
   "metadata": {},
   "outputs": [
    {
     "data": {
      "text/plain": [
       "'4.8.0'"
      ]
     },
     "execution_count": 2,
     "metadata": {},
     "output_type": "execute_result"
    }
   ],
   "source": [
    "import cv2\n",
    "cv2.__version__"
   ]
  },
  {
   "cell_type": "markdown",
   "id": "55529c07",
   "metadata": {},
   "source": [
    "# OpenCV(Computer Vision)\n",
    "다양한 영상이나 이미지 / 동영상처리에 사용되는 오픈소스 라이브러리"
   ]
  },
  {
   "cell_type": "markdown",
   "id": "f7ca7d89",
   "metadata": {},
   "source": [
    "# 1. 이미지 출력"
   ]
  },
  {
   "cell_type": "code",
   "execution_count": 4,
   "id": "89ddcd21",
   "metadata": {},
   "outputs": [],
   "source": [
    "import cv2\n",
    "img = cv2.imread('img/img.jpg') #해당 경로의 파일 읽어오기\n",
    "cv2.imshow('img', img) # 파라미터1 : 윈도우창의 제목 / 파라미터2 : 윈도우창에 표시할 이미지 파일\n",
    "cv2.waitKey(5000) # 지정된 시간(ms) 동안 사용자 키 입력 대기 / 0을 입력시 무한 대기\n",
    "cv2.destroyAllWindows() # 모든 윈도우창 제거 함수"
   ]
  },
  {
   "cell_type": "code",
   "execution_count": 3,
   "id": "dbe04d05",
   "metadata": {},
   "outputs": [
    {
     "name": "stdout",
     "output_type": "stream",
     "text": [
      "113\n"
     ]
    }
   ],
   "source": [
    "# key를 활용하여 윈도우창 종료시키기\n",
    "import cv2\n",
    "img = cv2.imread('img/img.jpg')\n",
    "cv2.imshow('img',img)\n",
    "key = cv2.waitKey(0) # key 값을 받는 역할을 수행\n",
    "print(key)\n",
    "cv2.destroyAllWindows()"
   ]
  },
  {
   "cell_type": "markdown",
   "id": "88ac49b8",
   "metadata": {},
   "source": [
    "## 읽기 옵션\n",
    "- cv2.imread(1,2) 파라미터2의 옵션 3가지\n",
    "1. cv2.IMREAD_COLOR : 컬러 이미지, 투명영역은 무시(기본값)\n",
    "2. cv2.IMREAD_GARYSCALE : 흑백이미지\n",
    "3. cv2.IMREAD_UNCHANGED : 투명영역까지 포함"
   ]
  },
  {
   "cell_type": "code",
   "execution_count": null,
   "id": "95c81970",
   "metadata": {},
   "outputs": [],
   "source": [
    "import cv2\n",
    "img_color = cv2.imread('img/img.jpg',cv2.IMREAD_COLOR)\n",
    "img_gray = cv2.imread('img/img.jpg',cv2.IMREAD_GRAYSCALE)\n",
    "img_unchange = cv2.imread('img/img.jpg',cv2.IMREAD_UNCHANGED)\n",
    "\n",
    "cv2.imshow('img_color',img_color)\n",
    "cv2.imshow('img_gray',img_gray)\n",
    "cv2.imshow('img_unchange',img_unchange)\n",
    "\n",
    "cv2.waitKey(0)\n",
    "cv2.destroyAllWindows()"
   ]
  },
  {
   "cell_type": "markdown",
   "id": "1307491c",
   "metadata": {},
   "source": [
    "## Shape\n",
    "이미지의 height,width, channel 정보"
   ]
  },
  {
   "cell_type": "code",
   "execution_count": null,
   "id": "9d406ebd",
   "metadata": {},
   "outputs": [],
   "source": [
    "import cv2\n",
    "img =cv2.imread('img/img.jpg')\n",
    "img.shape #세로,가로,channel(3일 경우 다색이미지, 1일 경우 단색이미지)"
   ]
  }
 ],
 "metadata": {
  "kernelspec": {
   "display_name": "Python 3",
   "language": "python",
   "name": "python3"
  },
  "language_info": {
   "codemirror_mode": {
    "name": "ipython",
    "version": 3
   },
   "file_extension": ".py",
   "mimetype": "text/x-python",
   "name": "python",
   "nbconvert_exporter": "python",
   "pygments_lexer": "ipython3",
   "version": "3.11.2"
  }
 },
 "nbformat": 4,
 "nbformat_minor": 5
}
