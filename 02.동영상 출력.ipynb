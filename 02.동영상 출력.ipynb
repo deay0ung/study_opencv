{
 "cells": [
  {
   "cell_type": "markdown",
   "id": "c03f5f09",
   "metadata": {},
   "source": [
    "# 동영상 출력"
   ]
  },
  {
   "cell_type": "markdown",
   "id": "9ecc23df",
   "metadata": {},
   "source": [
    "## 동영상 파일 출력"
   ]
  },
  {
   "cell_type": "code",
   "execution_count": 6,
   "id": "61853869",
   "metadata": {},
   "outputs": [
    {
     "name": "stdout",
     "output_type": "stream",
     "text": [
      "사용자의 강제종료\n"
     ]
    }
   ],
   "source": [
    "import cv2\n",
    "cap = cv2.VideoCapture('img/video.mp4')\n",
    "\n",
    "while cap.isOpened(): # 영상 파일이 실행되는 동안 무한 루프\n",
    "    \n",
    "    \n",
    "    ret, frame = cap.read() # ret : 성공여부, frame : 이미지 \n",
    "    \n",
    "    if not ret:\n",
    "        print('더 이상 가져올 frame이 없어요')\n",
    "        break\n",
    "        \n",
    "    cv2.imshow('video',frame)\n",
    "    \n",
    "    if cv2.waitKey(20) == ord('q'): # 영상을 다룰때는 waitKey()의 파라미터 값으로 영상 속도 조절\n",
    "        print('사용자의 강제종료')\n",
    "        break\n",
    "        \n",
    "cap.release()\n",
    "cv2.destroyAllWindows()"
   ]
  },
  {
   "cell_type": "code",
   "execution_count": null,
   "id": "ccaaec49",
   "metadata": {},
   "outputs": [],
   "source": []
  }
 ],
 "metadata": {
  "kernelspec": {
   "display_name": "studycv",
   "language": "python",
   "name": "studycv"
  },
  "language_info": {
   "codemirror_mode": {
    "name": "ipython",
    "version": 3
   },
   "file_extension": ".py",
   "mimetype": "text/x-python",
   "name": "python",
   "nbconvert_exporter": "python",
   "pygments_lexer": "ipython3",
   "version": "3.7.16"
  }
 },
 "nbformat": 4,
 "nbformat_minor": 5
}
